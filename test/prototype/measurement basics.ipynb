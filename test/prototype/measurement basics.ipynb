{
 "cells": [
  {
   "cell_type": "markdown",
   "metadata": {
    "Collapsed": "false"
   },
   "source": [
    "# Init"
   ]
  },
  {
   "cell_type": "code",
   "execution_count": 1,
   "metadata": {
    "Collapsed": "false"
   },
   "outputs": [],
   "source": [
    "%load_ext autoreload\n",
    "%autoreload 2"
   ]
  },
  {
   "cell_type": "code",
   "execution_count": 2,
   "metadata": {
    "Collapsed": "false"
   },
   "outputs": [],
   "source": [
    "import itertools\n",
    "import inspect\n",
    "from pprint import pprint\n",
    "\n",
    "import numpy as np\n",
    "\n",
    "from labcore.measurement import *"
   ]
  },
  {
   "cell_type": "markdown",
   "metadata": {
    "Collapsed": "false",
    "toc-hr-collapsed": true,
    "toc-nb-collapsed": true
   },
   "source": [
    "# Musings"
   ]
  },
  {
   "cell_type": "markdown",
   "metadata": {
    "Collapsed": "false"
   },
   "source": [
    "The way we would like to measure looks something like this:\n",
    "\n",
    "```python\n",
    "    >>> m = Measurement(\n",
    "    ...     setup_function,\n",
    "    ...     sweep_object,\n",
    "    ...     teardown_function\n",
    "    ... )\n",
    "    ... m.run()\n",
    "```\n",
    "\n",
    "The reason why we would like to define the measurement in an object is to be able to have access to main characteristics (such as the type of data acquired during the run) in advance, before any measurement code is executed. This will also be useful for serializing measurements.\n",
    "\n",
    "The most tricky aspect here is to define what the ``sweep`` object is. Often we define the flow in an experiment by directly using for-loops and the like. But that will not allow us the desired goals. We need to come up with an object-based description that makes the essence of the flow clear without executing it."
   ]
  },
  {
   "cell_type": "markdown",
   "metadata": {
    "Collapsed": "false"
   },
   "source": [
    "## Basic rules for individual sweep behavior:"
   ]
  },
  {
   "cell_type": "markdown",
   "metadata": {
    "Collapsed": "false"
   },
   "source": [
    "- a sweep object can be iterated over. each step performs some actions, and returns some data.\n",
    "  that means, we want to be able to use it like this:\n",
    "  \n",
    "    ```python\n",
    "      >>> for data in sweep_object:\n",
    "      ...    print(data)\n",
    "      {variable_1: some_data, variable_2: more_data}\n",
    "      {variable_1: different_data, variable_2: more_different_data}\n",
    "    ```\n",
    " \n",
    " \n",
    "- a sweep object is defined by a pointer and 0 or more actions. \n",
    "    - A pointer is again an iterable, and the coordinates it traverses may or may not be known in advance. \n",
    "    - Actions are callables that may take the values the pointer is returning at each iteration as arguments. Each action is executed once for each pointer.\n",
    "  \n",
    "  A simple sweep can then be defined like this:\n",
    "    \n",
    "    ```python\n",
    "        >>> sweep_object = Sweep(range(5), func_1, func_2)\n",
    "        \n",
    "    ```\n",
    "  \n",
    "  Executing this sweep will loop over the range, and will then call ``func_1(i)`` and subsequently ``func_2(i)``, for each ``i`` in the range from 0 to 4.\n",
    "  "
   ]
  },
  {
   "cell_type": "markdown",
   "metadata": {
    "Collapsed": "false"
   },
   "source": [
    "## Specifying return data"
   ]
  },
  {
   "cell_type": "markdown",
   "metadata": {
    "Collapsed": "false"
   },
   "source": [
    "When iterating over a sweep, annotated data is returned. We call this *recording*. For that to work, we add the corresponding meta information to each element that produces data. Typically, actions are functions that we use to set parameters and acquire signals, and thus produce data that we want to record. But also pointers can produce data, as we will see later.\n",
    "\n",
    "We can annotate a function that produces data using the ``recording`` decorator:\n",
    "\n",
    "```python\n",
    "   >>> @recording(\n",
    "   ...     DataSpec(name='x', unit='V'),\n",
    "   ...     DataSpec(name='y', unit='A', depends_on=['x']),\n",
    "   ... )\n",
    "   ... def measure_current(voltage):\n",
    "   ...     return voltage, 50./voltage)\n",
    "   ... measure_current(1)\n",
    "   {'x': 1, 'y': 50}\n",
    "```\n",
    "\n",
    "``DataSpec`` contains more information than just the name -- this is not immediately relevant, but important meta data we will need for faithfully storing the data.\n",
    "\n",
    "More generally we can use the ``record`` function to annotate outputs. See examples below."
   ]
  },
  {
   "cell_type": "markdown",
   "metadata": {
    "Collapsed": "false"
   },
   "source": [
    "## dependents and independents"
   ]
  },
  {
   "cell_type": "markdown",
   "metadata": {
    "Collapsed": "false"
   },
   "source": [
    "TBD"
   ]
  },
  {
   "cell_type": "markdown",
   "metadata": {
    "Collapsed": "false"
   },
   "source": [
    "# Examples"
   ]
  },
  {
   "cell_type": "code",
   "execution_count": null,
   "metadata": {},
   "outputs": [],
   "source": []
  },
  {
   "cell_type": "code",
   "execution_count": null,
   "metadata": {},
   "outputs": [],
   "source": []
  },
  {
   "cell_type": "code",
   "execution_count": null,
   "metadata": {},
   "outputs": [],
   "source": []
  },
  {
   "cell_type": "code",
   "execution_count": null,
   "metadata": {},
   "outputs": [],
   "source": []
  },
  {
   "cell_type": "markdown",
   "metadata": {
    "Collapsed": "false",
    "toc-hr-collapsed": true,
    "toc-nb-collapsed": true
   },
   "source": [
    "# Low-level examples"
   ]
  },
  {
   "cell_type": "markdown",
   "metadata": {},
   "source": [
    "These examples are meant to show how the underlying mechanisms work. For most tasks convience tools exist, though.\n",
    "The snippets below hopefully give a good view under the hood, which will be needed to extend functionality or write new convenience tools."
   ]
  },
  {
   "cell_type": "markdown",
   "metadata": {
    "Collapsed": "false"
   },
   "source": [
    "## Annotating objects for recording"
   ]
  },
  {
   "cell_type": "code",
   "execution_count": 3,
   "metadata": {
    "Collapsed": "false"
   },
   "outputs": [
    {
     "data": {
      "text/plain": [
       "({'x': 1, 'y': array([0.80782735])}, {'a': 1})"
      ]
     },
     "execution_count": 3,
     "metadata": {},
     "output_type": "execute_result"
    }
   ],
   "source": [
    "# defining some example measurement functions without short-hand notations\n",
    "\n",
    "@recording(DataSpec('x'), DataSpec('y', depends_on=['x'], type='array'))\n",
    "def measure_stuff(n, *args, **kwargs):\n",
    "    return n, np.random.normal(size=n)\n",
    "\n",
    "@recording(DataSpec('a'))\n",
    "def set_stuff(x, *args, **kwargs):\n",
    "    return x\n",
    "\n",
    "measure_stuff(1), set_stuff(1)"
   ]
  },
  {
   "cell_type": "code",
   "execution_count": 4,
   "metadata": {
    "Collapsed": "false"
   },
   "outputs": [
    {
     "name": "stdout",
     "output_type": "stream",
     "text": [
      "{'a': 0}\n",
      "{'a': 1}\n",
      "{'a': 2}\n"
     ]
    }
   ],
   "source": [
    "# we can also annotate generators\n",
    "\n",
    "@recording(ds('a'))\n",
    "def make_sequence(n):\n",
    "    for i in range(n):\n",
    "        yield i\n",
    "        \n",
    "for data in make_sequence(3):\n",
    "    print(data)"
   ]
  },
  {
   "cell_type": "code",
   "execution_count": 5,
   "metadata": {
    "Collapsed": "false"
   },
   "outputs": [
    {
     "data": {
      "text/plain": [
       "{'random_var': array([0.33752061, 1.42331927, 0.91387812])}"
      ]
     },
     "execution_count": 5,
     "metadata": {},
     "output_type": "execute_result"
    }
   ],
   "source": [
    "# using ``record`` is a practical way of annotating records\n",
    "# just before executing, independently of an earlier function definition\n",
    "\n",
    "def get_some_data(n):\n",
    "    return np.random.normal(size=n)\n",
    "\n",
    "record_as(get_some_data, ds('random_var'))(3)"
   ]
  },
  {
   "cell_type": "code",
   "execution_count": 6,
   "metadata": {
    "Collapsed": "false"
   },
   "outputs": [
    {
     "name": "stdout",
     "output_type": "stream",
     "text": [
      "{'x': 0.0}\n",
      "{'x': 0.2}\n",
      "{'x': 0.4}\n",
      "{'x': 0.6000000000000001}\n",
      "{'x': 0.8}\n",
      "{'x': 1.0}\n",
      "{'x': 0.0, 'y': 0}\n",
      "{'x': 0.2, 'y': 1}\n",
      "{'x': 0.4, 'y': 2}\n",
      "{'x': 0.6000000000000001, 'y': 3}\n",
      "{'x': 0.8, 'y': 4}\n",
      "{'x': 1.0, 'y': 5}\n",
      "{'x': 0.0, 'y': None}\n",
      "{'x': 0.2, 'y': None}\n",
      "{'x': 0.4, 'y': None}\n",
      "{'x': 0.6000000000000001, 'y': None}\n",
      "{'x': 0.8, 'y': None}\n",
      "{'x': 1.0, 'y': None}\n"
     ]
    }
   ],
   "source": [
    "# record also provides a simple short hand for labelling regular iterables and iterators:\n",
    "# it automatically removes surplus values, and always returns values for all specified data, \n",
    "# even if the annotated object does not return in (missing values will be ``None``)\n",
    "\n",
    "for data in record_as(zip(np.linspace(0,1,6), np.arange(6)), ds('x')):\n",
    "    print(data)\n",
    "    \n",
    "for data in record_as(zip(np.linspace(0,1,6), np.arange(6)), ds('x'), ds('y')):\n",
    "    print(data)\n",
    "    \n",
    "for data in record_as(np.linspace(0,1,6), ds('x'), ds('y')):\n",
    "    print(data)"
   ]
  },
  {
   "cell_type": "code",
   "execution_count": null,
   "metadata": {
    "Collapsed": "false"
   },
   "outputs": [],
   "source": []
  },
  {
   "cell_type": "markdown",
   "metadata": {
    "Collapsed": "false"
   },
   "source": [
    "## Single sweeps"
   ]
  },
  {
   "cell_type": "markdown",
   "metadata": {
    "Collapsed": "false"
   },
   "source": [
    "### Effect of annotating output"
   ]
  },
  {
   "cell_type": "code",
   "execution_count": 7,
   "metadata": {
    "Collapsed": "false"
   },
   "outputs": [
    {
     "name": "stdout",
     "output_type": "stream",
     "text": [
      "{}\n",
      "{}\n",
      "{}\n"
     ]
    }
   ],
   "source": [
    "# important note: without record annotations sweeps still are executed, but no data is recorded.\n",
    "\n",
    "sweep_object = Sweep(range(3), lambda x: np.random.normal(size=x))\n",
    "for data in sweep_object:\n",
    "    print(data)"
   ]
  },
  {
   "cell_type": "code",
   "execution_count": 8,
   "metadata": {
    "Collapsed": "false"
   },
   "outputs": [
    {
     "name": "stdout",
     "output_type": "stream",
     "text": [
      "{'some_array': array([], dtype=float64)}\n",
      "{'some_array': array([-0.49329426])}\n",
      "{'some_array': array([-1.20088943, -1.62706168])}\n"
     ]
    }
   ],
   "source": [
    "sweep_object = Sweep(range(3), record_as(lambda x: np.random.normal(size=x), ds('some_array')))\n",
    "\n",
    "for data in sweep_object:\n",
    "    print(data)"
   ]
  },
  {
   "cell_type": "code",
   "execution_count": 9,
   "metadata": {
    "Collapsed": "false"
   },
   "outputs": [
    {
     "name": "stdout",
     "output_type": "stream",
     "text": [
      "{'x': 0, 'rand_arr': array([], dtype=float64)}\n",
      "{'x': 1, 'rand_arr': array([1.4951921])}\n",
      "{'x': 2, 'rand_arr': array([ 0.86824314, -0.85401477])}\n"
     ]
    }
   ],
   "source": [
    "sweep_object = Sweep(record_as(range(3), ds('x')), \n",
    "                     record_as(lambda x: np.random.normal(size=x), ds('rand_arr')))\n",
    "\n",
    "for data in sweep_object:\n",
    "    print(data)"
   ]
  },
  {
   "cell_type": "code",
   "execution_count": 10,
   "metadata": {
    "Collapsed": "false"
   },
   "outputs": [
    {
     "name": "stdout",
     "output_type": "stream",
     "text": [
      "{'y': 0, 'rand_arr': None}\n",
      "{'y': 1, 'rand_arr': None}\n",
      "{'y': 2, 'rand_arr': None}\n"
     ]
    }
   ],
   "source": [
    "# if the pointer is annotated, we need to match arguments that are supposed to be passed.\n",
    "# otherwise a default value is passed.\n",
    "\n",
    "sweep_object = Sweep(record_as(range(3), ds('y')), \n",
    "                     record_as(lambda x: x, ds('rand_arr')))\n",
    "\n",
    "for data in sweep_object:\n",
    "    print(data)"
   ]
  },
  {
   "cell_type": "code",
   "execution_count": 11,
   "metadata": {
    "Collapsed": "false"
   },
   "outputs": [],
   "source": [
    "# The examples above are a bit artificial to highlight basic principles.\n",
    "# A more typical example as we might see it in the lab, that looks much more elegant already.\n",
    "# Notes:\n",
    "# - the sweep parameter is added as an independent to the measurement return\n",
    "#   this is done dynamically, so we can reuse actions easily with different pointers\n",
    "#   it only affects parameters that are specified as dependent \n",
    "# (i.e., where ``depends_on`` is not ``None``)\n",
    "\n",
    "@recording(ds('y', unit='A', depends_on=[]))\n",
    "def my_measurement():\n",
    "    print('acquiring current...')\n",
    "    return np.random.normal()"
   ]
  },
  {
   "cell_type": "code",
   "execution_count": 12,
   "metadata": {
    "Collapsed": "false"
   },
   "outputs": [
    {
     "name": "stdout",
     "output_type": "stream",
     "text": [
      "[DataSpec(name='x', depends_on=None, type=<DataType.scalar: 'scalar'>, unit='V'),\n",
      " DataSpec(name='y', depends_on=['x'], type=<DataType.scalar: 'scalar'>, unit='A')]\n",
      "\n",
      "acquiring current...\n",
      "{'x': -0.2, 'y': 0.3903110138296987}\n",
      "acquiring current...\n",
      "{'x': -0.12000000000000001, 'y': 1.2187619517712047}\n",
      "acquiring current...\n",
      "{'x': -0.04000000000000001, 'y': 0.5651954825649391}\n",
      "acquiring current...\n",
      "{'x': 0.03999999999999998, 'y': 0.23064563879892228}\n",
      "acquiring current...\n",
      "{'x': 0.12, 'y': 0.2889810623833583}\n",
      "acquiring current...\n",
      "{'x': 0.2, 'y': 1.5747255012764778}\n"
     ]
    }
   ],
   "source": [
    "sweep = sweep_parameter(ds('x', unit='V'), np.linspace(-0.2, 0.2, 6), my_measurement)\n",
    "pprint(sweep.get_data_specs())\n",
    "print()\n",
    "\n",
    "for data in sweep:\n",
    "    print(data)"
   ]
  },
  {
   "cell_type": "code",
   "execution_count": 13,
   "metadata": {
    "Collapsed": "false"
   },
   "outputs": [
    {
     "name": "stdout",
     "output_type": "stream",
     "text": [
      "[DataSpec(name='not_x', depends_on=None, type=<DataType.scalar: 'scalar'>, unit='V'),\n",
      " DataSpec(name='y', depends_on=['not_x'], type=<DataType.scalar: 'scalar'>, unit='A')]\n",
      "\n",
      "acquiring current...\n",
      "{'not_x': -0.2, 'y': 0.8964097428078937}\n",
      "acquiring current...\n",
      "{'not_x': -0.12000000000000001, 'y': 0.506887819913824}\n",
      "acquiring current...\n",
      "{'not_x': -0.04000000000000001, 'y': -1.2769988737949771}\n",
      "acquiring current...\n",
      "{'not_x': 0.03999999999999998, 'y': 2.059836696018098}\n",
      "acquiring current...\n",
      "{'not_x': 0.12, 'y': -0.012719302503048417}\n",
      "acquiring current...\n",
      "{'not_x': 0.2, 'y': 0.2956525559032776}\n"
     ]
    }
   ],
   "source": [
    "sweep = sweep_parameter(ds('not_x', unit='V'), np.linspace(-0.2, 0.2, 6), my_measurement)\n",
    "pprint(sweep.get_data_specs())\n",
    "print()\n",
    "\n",
    "for data in sweep:\n",
    "    print(data)"
   ]
  },
  {
   "cell_type": "markdown",
   "metadata": {
    "Collapsed": "false"
   },
   "source": [
    "# TESTING"
   ]
  },
  {
   "cell_type": "code",
   "execution_count": 14,
   "metadata": {
    "Collapsed": "false"
   },
   "outputs": [
    {
     "name": "stdout",
     "output_type": "stream",
     "text": [
      "{'x': 0, 'y': 0.782949567048879, 'a': None, 'b': None, 'xxx': 0.6045871327034585}\n",
      "{'x': 1, 'y': 0.6638418881215732, 'a': None, 'b': None, 'xxx': 0.7356001871828937}\n",
      "{'x': 2, 'y': 0.5592518780846804, 'a': None, 'b': None, 'xxx': 0.8213595190260442}\n",
      "{'x': None, 'y': None, 'a': 0, 'b': 0.06339560672161981, 'xxx': 0.8369534996488245}\n",
      "{'x': None, 'y': None, 'a': 1, 'b': 0.6956091194030222, 'xxx': 0.5533699136762449}\n",
      "{'x': None, 'y': None, 'a': 2, 'b': 0.5065391052744059, 'xxx': 0.6465809088801526}\n",
      "{'x': None, 'y': None, 'a': 3, 'b': 0.6514709499494534, 'xxx': 0.5457770882366881}\n"
     ]
    }
   ],
   "source": [
    "def get_random_number():\n",
    "    \"\"\"gimme a random number\"\"\"\n",
    "    return np.random.rand()\n",
    "\n",
    "sweep_1 = sweep_parameter('x', range(3), record_as(get_random_number, dep('y')))\n",
    "sweep_2 = sweep_parameter('a', range(4), record_as(get_random_number, dep('b')))\n",
    "\n",
    "for data in sweep_1 + sweep_2 + record_as(get_random_number, dep('xxx')):\n",
    "    print(data)"
   ]
  },
  {
   "cell_type": "code",
   "execution_count": null,
   "metadata": {
    "Collapsed": "false"
   },
   "outputs": [],
   "source": []
  },
  {
   "cell_type": "code",
   "execution_count": 18,
   "metadata": {},
   "outputs": [
    {
     "ename": "TypeError",
     "evalue": "<lambda>() takes 0 positional arguments but 1 was given",
     "output_type": "error",
     "traceback": [
      "\u001b[0;31m---------------------------------------------------------------------------\u001b[0m",
      "\u001b[0;31mTypeError\u001b[0m                                 Traceback (most recent call last)",
      "\u001b[0;32m<ipython-input-18-84d52afa1a40>\u001b[0m in \u001b[0;36m<module>\u001b[0;34m\u001b[0m\n\u001b[0;32m----> 1\u001b[0;31m \u001b[0;32mfor\u001b[0m \u001b[0mdata\u001b[0m \u001b[0;32min\u001b[0m \u001b[0mSweep\u001b[0m\u001b[0;34m(\u001b[0m\u001b[0mnull_pointer\u001b[0m\u001b[0;34m,\u001b[0m \u001b[0;32mlambda\u001b[0m\u001b[0;34m:\u001b[0m \u001b[0mprint\u001b[0m\u001b[0;34m(\u001b[0m\u001b[0;34m'oi'\u001b[0m\u001b[0;34m)\u001b[0m\u001b[0;34m)\u001b[0m\u001b[0;34m:\u001b[0m\u001b[0;34m\u001b[0m\u001b[0;34m\u001b[0m\u001b[0m\n\u001b[0m\u001b[1;32m      2\u001b[0m     \u001b[0mprint\u001b[0m\u001b[0;34m(\u001b[0m\u001b[0mdata\u001b[0m\u001b[0;34m)\u001b[0m\u001b[0;34m\u001b[0m\u001b[0;34m\u001b[0m\u001b[0m\n",
      "\u001b[0;32m~/Code/tfe/labcore/labcore/measurement/sweep.py\u001b[0m in \u001b[0;36m__next__\u001b[0;34m(self)\u001b[0m\n\u001b[1;32m    128\u001b[0m         \u001b[0;31m#   otherwise it'll only work for recording functions\u001b[0m\u001b[0;34m\u001b[0m\u001b[0;34m\u001b[0m\u001b[0;34m\u001b[0m\u001b[0m\n\u001b[1;32m    129\u001b[0m         \u001b[0;32mfor\u001b[0m \u001b[0ma\u001b[0m \u001b[0;32min\u001b[0m \u001b[0mself\u001b[0m\u001b[0;34m.\u001b[0m\u001b[0msweep\u001b[0m\u001b[0;34m.\u001b[0m\u001b[0mactions\u001b[0m\u001b[0;34m:\u001b[0m\u001b[0;34m\u001b[0m\u001b[0;34m\u001b[0m\u001b[0m\n\u001b[0;32m--> 130\u001b[0;31m             \u001b[0maction_return\u001b[0m \u001b[0;34m=\u001b[0m \u001b[0ma\u001b[0m\u001b[0;34m(\u001b[0m\u001b[0;34m*\u001b[0m\u001b[0margs\u001b[0m\u001b[0;34m,\u001b[0m \u001b[0;34m**\u001b[0m\u001b[0mkwargs\u001b[0m\u001b[0;34m)\u001b[0m\u001b[0;34m\u001b[0m\u001b[0;34m\u001b[0m\u001b[0m\n\u001b[0m\u001b[1;32m    131\u001b[0m             \u001b[0;32mif\u001b[0m \u001b[0mproduces_record\u001b[0m\u001b[0;34m(\u001b[0m\u001b[0ma\u001b[0m\u001b[0;34m)\u001b[0m\u001b[0;34m:\u001b[0m\u001b[0;34m\u001b[0m\u001b[0;34m\u001b[0m\u001b[0m\n\u001b[1;32m    132\u001b[0m                 \u001b[0mret\u001b[0m\u001b[0;34m.\u001b[0m\u001b[0mupdate\u001b[0m\u001b[0;34m(\u001b[0m\u001b[0maction_return\u001b[0m\u001b[0;34m)\u001b[0m\u001b[0;34m\u001b[0m\u001b[0;34m\u001b[0m\u001b[0m\n",
      "\u001b[0;31mTypeError\u001b[0m: <lambda>() takes 0 positional arguments but 1 was given"
     ]
    }
   ],
   "source": [
    "for data in Sweep(null_pointer, lambda: print('oi')):\n",
    "    print(data)"
   ]
  },
  {
   "cell_type": "code",
   "execution_count": null,
   "metadata": {},
   "outputs": [],
   "source": []
  },
  {
   "cell_type": "code",
   "execution_count": null,
   "metadata": {},
   "outputs": [],
   "source": []
  }
 ],
 "metadata": {
  "kernelspec": {
   "display_name": "Python [conda env:qcodes]",
   "language": "python",
   "name": "conda-env-qcodes-py"
  },
  "language_info": {
   "codemirror_mode": {
    "name": "ipython",
    "version": 3
   },
   "file_extension": ".py",
   "mimetype": "text/x-python",
   "name": "python",
   "nbconvert_exporter": "python",
   "pygments_lexer": "ipython3",
   "version": "3.7.7"
  },
  "toc-autonumbering": true,
  "toc-showcode": false,
  "toc-showmarkdowntxt": true
 },
 "nbformat": 4,
 "nbformat_minor": 4
}
