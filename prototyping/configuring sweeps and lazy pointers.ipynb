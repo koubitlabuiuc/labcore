{
 "cells": [
  {
   "cell_type": "code",
   "execution_count": 1,
   "id": "11efc49c-b674-4883-bdc4-2dd725e30a27",
   "metadata": {},
   "outputs": [],
   "source": [
    "%load_ext autoreload\n",
    "%autoreload 2"
   ]
  },
  {
   "cell_type": "code",
   "execution_count": 5,
   "id": "20d83ffd-7219-4523-a5fe-874058fa627f",
   "metadata": {},
   "outputs": [],
   "source": [
    "import numpy as np"
   ]
  },
  {
   "cell_type": "code",
   "execution_count": 44,
   "id": "59134b13-524e-4c5f-b3b4-b781d5d768d9",
   "metadata": {},
   "outputs": [],
   "source": [
    "from labcore.measurement import Sweep, pointer, record_as, indep, sweep_parameter, recording, dep\n",
    "from labcore.measurement.sweep import AsyncRecord"
   ]
  },
  {
   "cell_type": "code",
   "execution_count": null,
   "id": "3b96ded0-70fd-4313-b2ea-c4b1396d4597",
   "metadata": {},
   "outputs": [],
   "source": []
  },
  {
   "cell_type": "markdown",
   "id": "81b67e5f-d4d5-45e0-9b91-aefb32550aa5",
   "metadata": {},
   "source": [
    "## configuring sweeps"
   ]
  },
  {
   "cell_type": "code",
   "execution_count": 15,
   "id": "7bed32d6-28d9-4645-954f-4369dcac880d",
   "metadata": {},
   "outputs": [],
   "source": [
    "@recording('x')\n",
    "def measure_random_numbers(mean=0, scale=1., nvals=1):\n",
    "    return np.random.normal(loc=mean, scale=scale, size=nvals)"
   ]
  },
  {
   "cell_type": "code",
   "execution_count": 22,
   "id": "7efba1e7-6de1-44bc-b6b3-623b831b0be4",
   "metadata": {},
   "outputs": [
    {
     "name": "stdout",
     "output_type": "stream",
     "text": [
      "{'a': 0, 'x': array([-1.07520604])}\n",
      "{'a': 1, 'x': array([-0.98872233])}\n",
      "{'a': 2, 'x': array([1.78346645])}\n"
     ]
    }
   ],
   "source": [
    "sweep = sweep_parameter('a', range(3), measure_random_numbers)\n",
    "for s in sweep:\n",
    "    print(s)"
   ]
  },
  {
   "cell_type": "code",
   "execution_count": 23,
   "id": "b591b57c-77b5-41a8-8c0d-8cfcd4e5dcc7",
   "metadata": {},
   "outputs": [
    {
     "name": "stdout",
     "output_type": "stream",
     "text": [
      "{'a': 0, 'x': array([9.50424447])}\n",
      "{'a': 1, 'x': array([9.88050777])}\n",
      "{'a': 2, 'x': array([10.46168569])}\n"
     ]
    }
   ],
   "source": [
    "sweep = sweep_parameter('a', range(3), measure_random_numbers.using(mean=10))\n",
    "for s in sweep:\n",
    "    print(s)"
   ]
  },
  {
   "cell_type": "code",
   "execution_count": 24,
   "id": "edf826d1-71dc-4d2a-807e-af0df65437f6",
   "metadata": {},
   "outputs": [
    {
     "name": "stdout",
     "output_type": "stream",
     "text": [
      "{'a': 0, 'x': array([-3.81455827])}\n",
      "{'a': 1, 'x': array([-4.34206255])}\n",
      "{'a': 2, 'x': array([-5.90485879])}\n"
     ]
    }
   ],
   "source": [
    "sweep = sweep_parameter('a', range(3), measure_random_numbers)\n",
    "sweep.set_options(\n",
    "    measure_random_numbers=dict(mean=-5),\n",
    ")\n",
    "for s in sweep:\n",
    "    print(s)"
   ]
  },
  {
   "cell_type": "code",
   "execution_count": 25,
   "id": "768fb3e2-578f-4fbf-a100-f08996a08994",
   "metadata": {},
   "outputs": [
    {
     "name": "stdout",
     "output_type": "stream",
     "text": [
      "{'a': 0, 'x': array([11.06953062])}\n",
      "{'a': 1, 'x': array([8.74032162])}\n",
      "{'a': 2, 'x': array([8.66727255])}\n"
     ]
    }
   ],
   "source": [
    "sweep = sweep_parameter('a', range(3), measure_random_numbers.using(mean=10))\n",
    "sweep.set_options(\n",
    "    measure_random_numbers=dict(mean=-5),\n",
    ")\n",
    "for s in sweep:\n",
    "    print(s)"
   ]
  },
  {
   "cell_type": "code",
   "execution_count": null,
   "id": "b2ec1782-bd8f-4d68-a3bf-e87299a684d8",
   "metadata": {},
   "outputs": [],
   "source": []
  },
  {
   "cell_type": "markdown",
   "id": "b7122abc-327d-4cf0-b3cb-92f11fca8f0d",
   "metadata": {},
   "source": [
    "## Lazy pointer"
   ]
  },
  {
   "cell_type": "code",
   "execution_count": null,
   "id": "12c69b5b-36e2-47a3-9a71-ee1a5a9b8f29",
   "metadata": {},
   "outputs": [],
   "source": []
  },
  {
   "cell_type": "code",
   "execution_count": 33,
   "id": "8a3ede5f-9e45-430d-bb15-c9285f1095e5",
   "metadata": {},
   "outputs": [
    {
     "name": "stdout",
     "output_type": "stream",
     "text": [
      "doing the first sweep:\n",
      "{'x': 0}\n",
      "{'x': 1}\n",
      "{'x': 2}\n",
      "\n",
      "trying again:\n"
     ]
    }
   ],
   "source": [
    "def a_generator_function(n_vals=3):\n",
    "    x = 0\n",
    "    while x < n_vals:\n",
    "        yield x\n",
    "        x += 1\n",
    "\n",
    "sweep = sweep_parameter('x', a_generator_function())\n",
    "\n",
    "print('doing the first sweep:')\n",
    "for s in sweep:\n",
    "    print(s)\n",
    "\n",
    "print('\\ntrying again:')\n",
    "for s in sweep:\n",
    "    print(s)"
   ]
  },
  {
   "cell_type": "code",
   "execution_count": 76,
   "id": "c8476262-ed63-4c35-8db9-61bd418c0e25",
   "metadata": {},
   "outputs": [
    {
     "name": "stdout",
     "output_type": "stream",
     "text": [
      "doing the first sweep:\n",
      "{'x': 0}\n",
      "{'x': 1}\n",
      "{'x': 2}\n",
      "\n",
      "trying again:\n",
      "{'x': 0}\n",
      "{'x': 1}\n",
      "{'x': 2}\n"
     ]
    }
   ],
   "source": [
    "@pointer('x')\n",
    "def a_generator_function(n_vals=3):\n",
    "    x = 0\n",
    "    while x < n_vals:\n",
    "        yield x\n",
    "        x += 1\n",
    "\n",
    "sweep = Sweep(a_generator_function)\n",
    "\n",
    "print('doing the first sweep:')\n",
    "for s in sweep:\n",
    "    print(s)\n",
    "\n",
    "print('\\ntrying again:')\n",
    "for s in sweep:\n",
    "    print(s)"
   ]
  },
  {
   "cell_type": "code",
   "execution_count": 77,
   "id": "caaecd8e-ff09-4410-9ab0-c86ac84252d8",
   "metadata": {},
   "outputs": [
    {
     "name": "stdout",
     "output_type": "stream",
     "text": [
      "doing the first sweep:\n",
      "{'x': 0}\n",
      "{'x': 1}\n",
      "{'x': 2}\n",
      "{'x': 3}\n",
      "{'x': 4}\n"
     ]
    }
   ],
   "source": [
    "sweep = Sweep(a_generator_function.using(n_vals=5))\n",
    "\n",
    "print('doing the first sweep:')\n",
    "for s in sweep:\n",
    "    print(s)"
   ]
  },
  {
   "cell_type": "markdown",
   "id": "f0bf7c12-dd9e-44f8-b1ae-e26b1dc747ab",
   "metadata": {},
   "source": [
    "## Complicated pointer "
   ]
  },
  {
   "cell_type": "code",
   "execution_count": null,
   "id": "545a0e45-7a8e-4918-b4a0-59a1877cda3c",
   "metadata": {},
   "outputs": [],
   "source": []
  },
  {
   "cell_type": "code",
   "execution_count": null,
   "id": "a12e9bf1-c1c6-4716-ae02-4c8d7df4ba07",
   "metadata": {},
   "outputs": [],
   "source": []
  },
  {
   "cell_type": "markdown",
   "id": "c4162cef-dfaf-4a1f-9bc3-315f36d7b6c0",
   "metadata": {},
   "source": [
    "## AsyncRecord"
   ]
  },
  {
   "cell_type": "code",
   "execution_count": 35,
   "id": "e0ba58c1-8c9f-4cfc-b69a-57a4ef0be184",
   "metadata": {},
   "outputs": [],
   "source": [
    "import time"
   ]
  },
  {
   "cell_type": "code",
   "execution_count": 132,
   "id": "faff1021-6b0a-411e-82cd-3f5657cd0c22",
   "metadata": {},
   "outputs": [
    {
     "name": "stdout",
     "output_type": "stream",
     "text": [
      "{'interrogation_times': None}\n",
      "{'interrogation_times': 1630428893.361867}\n",
      "{'interrogation_times': 1630428893.562287}\n",
      "{'interrogation_times': 1630428893.7699819}\n",
      "{'interrogation_times': 1630428893.9668071}\n",
      "{'interrogation_times': 1630428894.16322}\n",
      "{'interrogation_times': 1630428894.368414}\n",
      "{'interrogation_times': 1630428894.572625}\n",
      "{'interrogation_times': 1630428894.7647948}\n",
      "{'interrogation_times': 1630428894.965135}\n",
      "{'interrogation_times': 1630428895.1685271}\n"
     ]
    }
   ],
   "source": [
    "class DummyInstrument:\n",
    "    \n",
    "    def __init__(self, intervals):\n",
    "        self.intervals = intervals\n",
    "        \n",
    "    def run(self):\n",
    "        t0 = time.time()\n",
    "        for i in self.intervals:\n",
    "            while time.time()-t0 < i:\n",
    "                time.sleep(0.01)\n",
    "            yield time.time()\n",
    "\n",
    "\n",
    "class DelayedGatheringOfTimes(AsyncRecord):\n",
    "    \n",
    "    def setup(self, fun, *args, **kwargs):\n",
    "        self.communicator['time'] = time.time()\n",
    "        intervals = fun(*args, **kwargs)\n",
    "        self.communicator['instrument'] = DummyInstrument(intervals)\n",
    "    \n",
    "    def collect(self, print_data=False, **kwargs):\n",
    "        for data in self.communicator['instrument'].run():\n",
    "            if print_data:\n",
    "                print('data:', data)\n",
    "            yield data\n",
    "        \n",
    "\n",
    "@DelayedGatheringOfTimes(\n",
    "    indep('interrogation_times'),\n",
    ")\n",
    "def equally_spaced_times(wait_time=0.5, points=2):\n",
    "    return np.arange(points) * wait_time\n",
    "\n",
    "\n",
    "sweep = equally_spaced_times(wait_time=0.2, points=10, collector_options={'print_data': False})\n",
    "\n",
    "sweep.set_options(\n",
    "    equally_spaced_times=dict(points=5)\n",
    ")\n",
    "\n",
    "for s in sweep:\n",
    "    print(s)"
   ]
  },
  {
   "cell_type": "code",
   "execution_count": 137,
   "id": "16ff2035-2edb-45fd-b2cc-8e0cb969e241",
   "metadata": {},
   "outputs": [
    {
     "name": "stdout",
     "output_type": "stream",
     "text": [
      "{'points': 1, 'interrogation_times': None}\n",
      "{'points': 1, 'interrogation_times': 1630429139.222152}\n",
      "{'points': 2, 'interrogation_times': None}\n",
      "{'points': 2, 'interrogation_times': 1630429139.2222779}\n",
      "{'points': 2, 'interrogation_times': 1630429139.426282}\n",
      "{'points': 3, 'interrogation_times': None}\n",
      "{'points': 3, 'interrogation_times': 1630429139.427327}\n",
      "{'points': 3, 'interrogation_times': 1630429139.631752}\n",
      "{'points': 3, 'interrogation_times': 1630429139.8366048}\n",
      "{'points': 4, 'interrogation_times': None}\n",
      "{'points': 4, 'interrogation_times': 1630429139.837495}\n",
      "{'points': 4, 'interrogation_times': 1630429140.047543}\n",
      "{'points': 4, 'interrogation_times': 1630429140.24167}\n",
      "{'points': 4, 'interrogation_times': 1630429140.441689}\n"
     ]
    }
   ],
   "source": [
    "outer_sweep = sweep_parameter('points', range(1,5))\n",
    "inner_sweep = equally_spaced_times(wait_time=0.2)\n",
    "combined_sweep = outer_sweep @ inner_sweep\n",
    "\n",
    "for data in combined_sweep:\n",
    "    print(data)"
   ]
  },
  {
   "cell_type": "code",
   "execution_count": null,
   "id": "3a992dba-63e8-4739-ab2b-6f8ad55ce8b0",
   "metadata": {},
   "outputs": [],
   "source": []
  }
 ],
 "metadata": {
  "kernelspec": {
   "display_name": "Python [conda env:msmt-pyqt5]",
   "language": "python",
   "name": "conda-env-msmt-pyqt5-py"
  },
  "language_info": {
   "codemirror_mode": {
    "name": "ipython",
    "version": 3
   },
   "file_extension": ".py",
   "mimetype": "text/x-python",
   "name": "python",
   "nbconvert_exporter": "python",
   "pygments_lexer": "ipython3",
   "version": "3.9.6"
  }
 },
 "nbformat": 4,
 "nbformat_minor": 5
}
